{
 "cells": [
  {
   "cell_type": "code",
   "execution_count": null,
   "id": "ac590b26",
   "metadata": {},
   "outputs": [],
   "source": [
    "import pandas as pd\n",
    "import numpy as np\n",
    "\n",
    "path = 'archive/dataset.csv'\n",
    "df = pd.read_csv(path)\n",
    "df.head()"
   ]
  },
  {
   "cell_type": "code",
   "execution_count": null,
   "id": "d02ab14a",
   "metadata": {},
   "outputs": [],
   "source": [
    "df.shape"
   ]
  },
  {
   "cell_type": "code",
   "execution_count": null,
   "id": "f1a196b5",
   "metadata": {},
   "outputs": [],
   "source": [
    "df.isnull().sum()"
   ]
  },
  {
   "cell_type": "code",
   "execution_count": null,
   "id": "a6528cbd",
   "metadata": {},
   "outputs": [],
   "source": [
    "df.describe()"
   ]
  },
  {
   "cell_type": "code",
   "execution_count": null,
   "id": "4d77fe0a",
   "metadata": {},
   "outputs": [],
   "source": [
    "import matplotlib.pyplot as plt\n",
    "\n",
    "df.hist(figsize=(15, 10), bins=30)\n",
    "plt.tight_layout()\n",
    "plt.show()"
   ]
  },
  {
   "cell_type": "code",
   "execution_count": null,
   "id": "0678bd1f",
   "metadata": {},
   "outputs": [],
   "source": [
    "import seaborn as sns\n",
    "import matplotlib.pyplot as plt\n",
    "\n",
    "# 只選取數值型欄位\n",
    "numeric_df = df.select_dtypes(include=[np.number])\n",
    "\n",
    "# 計算相關係數\n",
    "corr = numeric_df.corr()\n",
    "\n",
    "# 畫出相關性熱力圖\n",
    "plt.figure(figsize=(20, 16))  # 放大圖形\n",
    "sns.heatmap(corr, annot=True, fmt=\".2f\", cmap='coolwarm')\n",
    "plt.title('Feature Correlation Heatmap')\n",
    "plt.savefig('correlation_heatmap.png', dpi=300)  # 儲存圖片\n",
    "plt.show()"
   ]
  },
  {
   "cell_type": "code",
   "execution_count": null,
   "id": "95af77b2",
   "metadata": {},
   "outputs": [],
   "source": [
    "# 計算相關係數\n",
    "corr = numeric_df.corr()\n",
    "\n",
    "# 只取上三角（不包含對角線），避免重複\n",
    "high_corr = []\n",
    "threshold = 0.4\n",
    "for i in range(len(corr.columns)):\n",
    "    for j in range(i+1, len(corr.columns)):\n",
    "        if abs(corr.iloc[i, j]) > threshold:\n",
    "            high_corr.append((corr.columns[i], corr.columns[j], corr.iloc[i, j]))\n",
    "\n",
    "# 顯示結果\n",
    "for col1, col2, value in high_corr:\n",
    "    print(f\"{col1} 與 {col2} 的相關係數為 {value:.2f}\")"
   ]
  },
  {
   "cell_type": "code",
   "execution_count": null,
   "id": "ae9ba45b",
   "metadata": {},
   "outputs": [],
   "source": [
    "# 取得所有相關性高於0.4的欄位名稱\n",
    "cols = set()\n",
    "threshold = 0.4\n",
    "corr = numeric_df.corr()\n",
    "for i in range(len(corr.columns)):\n",
    "    for j in range(i+1, len(corr.columns)):\n",
    "        if abs(corr.iloc[i, j]) > threshold:\n",
    "            cols.add(corr.columns[i])\n",
    "            cols.add(corr.columns[j])\n",
    "\n",
    "# 加入 target 欄位\n",
    "cols.add('Target')  # 請將'target'改成你資料中的目標欄位名稱\n",
    "\n",
    "# 用這些欄位組成新的DataFrame\n",
    "high_corr_df = df[list(cols)]\n",
    "high_corr_df.head()"
   ]
  },
  {
   "cell_type": "code",
   "execution_count": null,
   "id": "f196c8fb",
   "metadata": {},
   "outputs": [],
   "source": [
    "high_corr_df.head()"
   ]
  },
  {
   "cell_type": "code",
   "execution_count": null,
   "id": "59354b0e",
   "metadata": {},
   "outputs": [],
   "source": [
    "from sklearn.preprocessing import StandardScaler,LabelEncoder\n",
    "\n",
    "X = df.drop('Target', axis=1).values  # 特徵\n",
    "y = df['Target'].values               # 標籤\n",
    "\n",
    "le = LabelEncoder()\n",
    "y = le.fit_transform(y) "
   ]
  }
 ],
 "metadata": {
  "kernelspec": {
   "display_name": "dlvenv (3.13.5)",
   "language": "python",
   "name": "python3"
  },
  "language_info": {
   "codemirror_mode": {
    "name": "ipython",
    "version": 3
   },
   "file_extension": ".py",
   "mimetype": "text/x-python",
   "name": "python",
   "nbconvert_exporter": "python",
   "pygments_lexer": "ipython3",
   "version": "3.13.5"
  }
 },
 "nbformat": 4,
 "nbformat_minor": 5
}
